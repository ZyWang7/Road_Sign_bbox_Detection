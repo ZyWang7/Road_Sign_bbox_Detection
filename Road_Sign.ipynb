{
 "cells": [
  {
   "cell_type": "markdown",
   "metadata": {},
   "source": [
    "## Road Signs Bounding Box Prediction using Yolo"
   ]
  },
  {
   "cell_type": "markdown",
   "metadata": {},
   "source": [
    "## 1. Load Data"
   ]
  },
  {
   "cell_type": "code",
   "execution_count": 1,
   "metadata": {},
   "outputs": [
    {
     "data": {
      "text/plain": [
       "(PosixPath('Data/images'), PosixPath('Data/annotations'))"
      ]
     },
     "execution_count": 1,
     "metadata": {},
     "output_type": "execute_result"
    }
   ],
   "source": [
    "from pathlib import Path\n",
    "# set the path\n",
    "images_path = Path(\"Data/images\")\n",
    "anno_path = Path(\"Data/annotations\")\n",
    "images_path, anno_path"
   ]
  },
  {
   "cell_type": "code",
   "execution_count": 2,
   "metadata": {},
   "outputs": [
    {
     "data": {
      "text/plain": [
       "[PosixPath('Data/images/road289.png'),\n",
       " PosixPath('Data/images/road504.png'),\n",
       " PosixPath('Data/images/road262.png'),\n",
       " PosixPath('Data/images/road276.png'),\n",
       " PosixPath('Data/images/road510.png')]"
      ]
     },
     "execution_count": 2,
     "metadata": {},
     "output_type": "execute_result"
    }
   ],
   "source": [
    "# get a list of image files\n",
    "image_path_list = list(images_path.glob(\"*.png\"))\n",
    "image_path_list[:5]"
   ]
  },
  {
   "cell_type": "code",
   "execution_count": 3,
   "metadata": {},
   "outputs": [
    {
     "data": {
      "text/plain": [
       "[PosixPath('Data/annotations/road712.xml'),\n",
       " PosixPath('Data/annotations/road706.xml'),\n",
       " PosixPath('Data/annotations/road289.xml'),\n",
       " PosixPath('Data/annotations/road538.xml'),\n",
       " PosixPath('Data/annotations/road510.xml')]"
      ]
     },
     "execution_count": 3,
     "metadata": {},
     "output_type": "execute_result"
    }
   ],
   "source": [
    "# get a list of .xml files\n",
    "anno_path_list = list(anno_path.glob(\"*.xml\"))\n",
    "anno_path_list[:5]"
   ]
  },
  {
   "cell_type": "markdown",
   "metadata": {},
   "source": [
    "### 1.1 Check the info of the bounding box"
   ]
  },
  {
   "cell_type": "code",
   "execution_count": 4,
   "metadata": {},
   "outputs": [
    {
     "name": "stdout",
     "output_type": "stream",
     "text": [
      "Name of .xml file: Data/annotations/road207.xml\n",
      "Corresponding image file: Data/images/road207.png\n",
      "Image width: 300\n",
      "Image height: 400\n",
      "Object name: speedlimit\n",
      "xmin: 176\n",
      "ymin: 184\n",
      "Object name: crosswalk\n",
      "xmin: 33\n",
      "ymin: 214\n"
     ]
    }
   ],
   "source": [
    "# trying to load the annotation information\n",
    "import xml.etree.ElementTree as ET\n",
    "\n",
    "filepath = Path(\"Data/annotations/road207.xml\")\n",
    "# pick a single example\n",
    "print(f\"Name of .xml file: {filepath}\")\n",
    "root = ET.parse(filepath).getroot()\n",
    "print(\"Corresponding image file:\", Path(str(images_path) + '/'+ root.find(\"./filename\").text))\n",
    "print(\"Image width:\", root.find(\"./size/width\").text)\n",
    "print(\"Image height:\", root.find(\"./size/height\").text)\n",
    "\n",
    "for obj in root.iter('object'):\n",
    "    print(\"Object name:\", obj.find(\"name\").text)\n",
    "    print(\"xmin:\", obj.find(\"bndbox/xmin\").text)\n",
    "    print(\"ymin:\", obj.find(\"bndbox/ymin\").text)"
   ]
  },
  {
   "cell_type": "markdown",
   "metadata": {},
   "source": [
    "### 1.2 Label Encode the class names"
   ]
  },
  {
   "cell_type": "code",
   "execution_count": null,
   "metadata": {},
   "outputs": [],
   "source": [
    "# label encode the class names\n",
    "class_dict = {\n",
    "    \"speedlimit\" : 0,\n",
    "    \"stop\": 1,\n",
    "    \"crosswalk\": 2,\n",
    "    \"trafficlight\": 3\n",
    "}"
   ]
  }
 ],
 "metadata": {
  "kernelspec": {
   "display_name": "yolo",
   "language": "python",
   "name": "python3"
  },
  "language_info": {
   "codemirror_mode": {
    "name": "ipython",
    "version": 3
   },
   "file_extension": ".py",
   "mimetype": "text/x-python",
   "name": "python",
   "nbconvert_exporter": "python",
   "pygments_lexer": "ipython3",
   "version": "3.9.17"
  },
  "orig_nbformat": 4
 },
 "nbformat": 4,
 "nbformat_minor": 2
}
